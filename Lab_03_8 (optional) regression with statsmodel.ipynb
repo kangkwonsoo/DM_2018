{
 "cells": [
  {
   "cell_type": "markdown",
   "metadata": {},
   "source": [
    "<br><br>\n",
    "## Linear Regression Model의 경우, scikit-learn 을 사용하면 여러가지 제약(통계치 산출, subset 선택 등)이 따른다."
   ]
  },
  {
   "cell_type": "markdown",
   "metadata": {},
   "source": [
    "<br>\n",
    "# Statsmodels의 Linear Regression Model 사용하기\n",
    "\n",
    "<br>\n",
    "\n",
    "1 단계 **train, test 분리**  \n",
    "2 단계 **모델 import** : import statsmodels.formula.api as smf  \n",
    "3 단계 **모델 instantiate** : 클래스 생성자를 이용해 모델을 만듬. 이 때 argument로 regression formula 포함  \n",
    "4 단계 **학습 시킴** : instantiate된 모델 객체에게 fit() 명령을 내려 학습/훈련시키고, 학습된 모델을 반환 받음  \n",
    "5 단계 **학습된 모델 활용** : 학습된 모델을 이용해 새로운 입력에 대해 예측을 하던가 등, 적절한 일거리를 줌  \n",
    "<br><br>"
   ]
  },
  {
   "cell_type": "code",
   "execution_count": null,
   "metadata": {
    "collapsed": true
   },
   "outputs": [],
   "source": [
    "# inserted cell\n",
    "import pandas as pd\n",
    "import numpy as np\n",
    "\n",
    "from sklearn.model_selection import train_test_split\n",
    "\n",
    "import statsmodels.formula.api as smf     # R의 formula 식 유사하게 쓰임\n",
    "from statsmodels.tools.eval_measures import rmse\n",
    "\n",
    "%matplotlib inline"
   ]
  },
  {
   "cell_type": "code",
   "execution_count": null,
   "metadata": {
    "collapsed": true
   },
   "outputs": [],
   "source": [
    "# 1 단계: 필요한 features 들만으로 데이터프레임을 만들어 train, test 분리\n",
    "\n",
    "data = pd.read_csv('data/Boston.csv')\n",
    "data2=data[['rm','age','lstat','medv']]\n",
    "train, test = train_test_split(data2, train_size=0.75, random_state=1)"
   ]
  },
  {
   "cell_type": "code",
   "execution_count": null,
   "metadata": {},
   "outputs": [],
   "source": [
    "train.head()"
   ]
  },
  {
   "cell_type": "code",
   "execution_count": null,
   "metadata": {},
   "outputs": [],
   "source": [
    "print(train.shape)"
   ]
  },
  {
   "cell_type": "code",
   "execution_count": null,
   "metadata": {},
   "outputs": [],
   "source": [
    "test.head()"
   ]
  },
  {
   "cell_type": "code",
   "execution_count": null,
   "metadata": {},
   "outputs": [],
   "source": [
    "print(test.shape)"
   ]
  },
  {
   "cell_type": "code",
   "execution_count": null,
   "metadata": {
    "collapsed": true
   },
   "outputs": [],
   "source": [
    "# 2 단계: 모델 import \n",
    "\n",
    "# 이미 첫번째 코드 셀에서 실행했음\n",
    "#import statsmodels.formula.api as smf     # R의 formula 식 유사하게 쓰임\n"
   ]
  },
  {
   "cell_type": "code",
   "execution_count": null,
   "metadata": {
    "collapsed": true
   },
   "outputs": [],
   "source": [
    "# 3 단계: Model Instantiation: Ordinary Least Squares (ols) 방식 linear regression 모델 만들기\n",
    "#    - 입력 데이터는 DataFrame 타입 \n",
    "\n",
    "lm = smf.ols(formula='medv ~ rm + age + lstat', data=data2)   \n",
    "\n",
    "# 'data2' DataFrame에서 'medv' column을 response로, 'rm' , 'age', 'lstat' columns을 feature로 하는\n",
    "#  multiple linear regression 모델을 정의함 \n"
   ]
  },
  {
   "cell_type": "code",
   "execution_count": null,
   "metadata": {},
   "outputs": [],
   "source": [
    "# 4 단계: 모델에게 학습 시키고, 그 결과인 (학습된) 모델을 'lm_fit'으로 받음 \n",
    "lm_fit = lm.fit()\n",
    "\n",
    "# 학습된 모델의 통계량\n",
    "print(lm_fit.summary())\n",
    "\n",
    "# lm_learned.pvalues            # p values\n",
    "# lm_learned.rsquared           # R-squared statistic "
   ]
  },
  {
   "cell_type": "code",
   "execution_count": null,
   "metadata": {},
   "outputs": [],
   "source": [
    "# p_value\n",
    "print(lm_fit.pvalues)\n",
    "\n",
    "# R-squared statistic \n",
    "print(lm_fit.rsquared)           "
   ]
  },
  {
   "cell_type": "code",
   "execution_count": null,
   "metadata": {
    "collapsed": true
   },
   "outputs": [],
   "source": [
    "# prediction for test data\n",
    "X_test=test[['rm','age','lstat']]\n",
    "y_test=test['medv']\n",
    "y_pred=lm_fit.predict(X_test)"
   ]
  },
  {
   "cell_type": "code",
   "execution_count": null,
   "metadata": {},
   "outputs": [],
   "source": [
    "rmse( y_test, y_pred )"
   ]
  },
  {
   "cell_type": "markdown",
   "metadata": {},
   "source": [
    "##  Interaction Terms"
   ]
  },
  {
   "cell_type": "code",
   "execution_count": null,
   "metadata": {
    "collapsed": true
   },
   "outputs": [],
   "source": [
    "# 3 단계: Model Instantiation: Ordinary Least Squares (ols) 방식 linear regression 모델 만들기\n",
    "#    - 입력 데이터는 DataFrame 타입 \n",
    "\n",
    "lm = smf.ols(formula='medv ~ rm + age * lstat', data=data2)   \n",
    "\n",
    "# 'data2' DataFrame에서 'medv' column을 response로, 'rm' , 'age', 'lstat' columns을 feature로 하는\n",
    "#  multiple linear regression 모델을 정의함 \n"
   ]
  },
  {
   "cell_type": "code",
   "execution_count": null,
   "metadata": {},
   "outputs": [],
   "source": [
    "# 4 단계: 모델에게 학습 시키고, 그 결과인 (학습된) 모델을 'lm_fit'으로 받음 \n",
    "lm_fit = lm.fit()\n",
    "\n",
    "# 학습된 모델의 통계량\n",
    "print(lm_fit.summary())\n",
    "\n",
    "# lm_learned.pvalues            # p values\n",
    "# lm_learned.rsquared           # R-squared statistic "
   ]
  },
  {
   "cell_type": "code",
   "execution_count": null,
   "metadata": {},
   "outputs": [],
   "source": [
    "# p_value\n",
    "print(lm_fit.pvalues)\n",
    "\n",
    "# R-squared statistic \n",
    "print(lm_fit.rsquared)           "
   ]
  },
  {
   "cell_type": "code",
   "execution_count": null,
   "metadata": {
    "collapsed": true
   },
   "outputs": [],
   "source": [
    "# prediction for test data\n",
    "X_test=test[['rm','age','lstat']]\n",
    "y_test=test['medv']\n",
    "y_pred=lm_fit.predict(X_test)"
   ]
  },
  {
   "cell_type": "code",
   "execution_count": null,
   "metadata": {},
   "outputs": [],
   "source": [
    "rmse( y_test, y_pred )"
   ]
  },
  {
   "cell_type": "code",
   "execution_count": null,
   "metadata": {
    "collapsed": true
   },
   "outputs": [],
   "source": []
  }
 ],
 "metadata": {
  "kernelspec": {
   "display_name": "Python 3",
   "language": "python",
   "name": "python3"
  },
  "language_info": {
   "codemirror_mode": {
    "name": "ipython",
    "version": 3
   },
   "file_extension": ".py",
   "mimetype": "text/x-python",
   "name": "python",
   "nbconvert_exporter": "python",
   "pygments_lexer": "ipython3",
   "version": "3.6.1"
  }
 },
 "nbformat": 4,
 "nbformat_minor": 1
}
