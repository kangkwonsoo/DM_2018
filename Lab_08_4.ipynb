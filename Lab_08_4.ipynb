{
 "cells": [
  {
   "cell_type": "markdown",
   "metadata": {},
   "source": [
    "# Ch8: Lab 4- Boosting"
   ]
  },
  {
   "cell_type": "markdown",
   "metadata": {},
   "source": [
    "- [Load Boston Dataset](#Load-Boston-Dataset)\n",
    "- [Split Data](#Split-Data)\n",
    "- [Apply Gradient Boosting](#Apply-Gradient-Boosting)\n",
    "- [Partial Dependence Plot](#Partial-Dependence-Plot)\n",
    "- [Compute Test MSE](#Compute-Test-MSE)"
   ]
  },
  {
   "cell_type": "code",
   "execution_count": 2,
   "metadata": {},
   "outputs": [],
   "source": [
    "import numpy as np\n",
    "import pandas as pd\n",
    "import matplotlib.pyplot as plt\n",
    "\n",
    "from sklearn.model_selection import train_test_split\n",
    "from sklearn.ensemble import GradientBoostingRegressor\n",
    "from sklearn.ensemble.partial_dependence import plot_partial_dependence\n",
    "\n",
    "%matplotlib inline\n",
    "plt.style.use('ggplot')"
   ]
  },
  {
   "cell_type": "markdown",
   "metadata": {},
   "source": [
    "## Load Boston Dataset"
   ]
  },
  {
   "cell_type": "code",
   "execution_count": 11,
   "metadata": {},
   "outputs": [
    {
     "data": {
      "text/plain": [
       "(506, 14)"
      ]
     },
     "execution_count": 11,
     "metadata": {},
     "output_type": "execute_result"
    }
   ],
   "source": [
    "df = pd.read_csv('data/Boston.csv')\n",
    "df.head()\n",
    "df.shape"
   ]
  },
  {
   "cell_type": "markdown",
   "metadata": {},
   "source": [
    "## Split Data"
   ]
  },
  {
   "cell_type": "code",
   "execution_count": 12,
   "metadata": {
    "collapsed": true
   },
   "outputs": [],
   "source": [
    "# Get the predictors and the response values\n",
    "X = df[df.columns[0:-1]].values # get all the columns except the medv\n",
    "y = df['medv'].values\n",
    "\n",
    "# The lab uses a 50/50 split. We'll do the same\n",
    "X_train, X_test, y_train, y_test = train_test_split(X, y, train_size=0.4, random_state=0)"
   ]
  },
  {
   "cell_type": "markdown",
   "metadata": {},
   "source": [
    "## Apply Gradient Boosting"
   ]
  },
  {
   "cell_type": "code",
   "execution_count": 13,
   "metadata": {},
   "outputs": [],
   "source": [
    "# Create a boosting object using 'least squares' obj func, with a learning rate of .001 and 5000 iterations\n",
    "# each with depth of 4\n",
    "booster = GradientBoostingRegressor(loss='ls', learning_rate=0.001, n_estimators=5000, max_depth=4, \n",
    "                                    random_state=0)\n",
    "\n",
    "boost_est = booster.fit(X_train, y_train)"
   ]
  },
  {
   "cell_type": "code",
   "execution_count": 14,
   "metadata": {},
   "outputs": [
    {
     "data": {
      "text/plain": [
       "lstat      0.299237\n",
       "rm         0.187556\n",
       "dis        0.097119\n",
       "crim       0.090824\n",
       "indus      0.069987\n",
       "ptratio    0.062311\n",
       "age        0.054884\n",
       "black      0.050609\n",
       "nox        0.033236\n",
       "tax        0.033203\n",
       "chas       0.013095\n",
       "rad        0.007088\n",
       "zn         0.000851\n",
       "dtype: float64"
      ]
     },
     "execution_count": 14,
     "metadata": {},
     "output_type": "execute_result"
    }
   ],
   "source": [
    "# Examine the feature importances\n",
    "feature_importances = pd.Series(data=boost_est.feature_importances_, index=list(df.columns[0:-1]))\n",
    "sorted_feature_importances = feature_importances.sort_values(axis=0, ascending=False)\n",
    "sorted_feature_importances"
   ]
  },
  {
   "cell_type": "markdown",
   "metadata": {},
   "source": [
    "## Partial Dependence Plot"
   ]
  },
  {
   "cell_type": "markdown",
   "metadata": {},
   "source": [
    "One of the advantages of parametric statistical learning methods such as linear regression is that we can easily interpret the effect of a single predictor on the model by examing each covariates coeffecients. With boosted decision trees interpreting a model can be difficult. One method is to consider partial dependence plots.\n",
    "\n",
    "A partial dependence plot examines the effect of single predictor after averaging out the effect of all other predictors. Please see https://cran.r-project.org/web/packages/datarobot/vignettes/PartialDependence.html. Briefly recall that our estimate for the response y can be written as $\\hat{y}_k = F(x_{1k}, x_{2k},...x_{pk}$ where k is the number of observations and p is the covariate number. Now lets suppose that we average all the $\\hat{y}_k$ except for one covariate which we leave free to vary. We can write this as $\\phi_j(x) = \\frac{1}{N} \\sum_{k=1}^{N} F(x_{1,k}, x_{2,k},...x_{j-1,k},x, x_{j+1,k},...x_{p,k})$. This is equivalent to writing $\\phi(x) = \\frac{1}{N}(\\hat{y}_1 + \\hat{y}_2 + ... y_j(x) + .... \\hat{y}_p)$. So what $\\phi(x)$ represents is the effect of the jth covariate after averaging out the effects from all the other covariates. Note there is a drawback in that it will miss interaction effects. Sklearn provides the functionality we require to make a plot of $\\phi(x)$."
   ]
  },
  {
   "cell_type": "code",
   "execution_count": 15,
   "metadata": {},
   "outputs": [
    {
     "data": {
      "image/png": "[encoded data removed]",
      "text/plain": [
       "<matplotlib.figure.Figure at 0x1d586ec7588>"
      ]
     },
     "metadata": {},
     "output_type": "display_data"
    }
   ],
   "source": [
    "# Get the three feature indexes with the highest importance (lstat, rm, dis)\n",
    "feature_idxs=np.argsort(feature_importances.values)[-3:]\n",
    "# Create the PDP\n",
    "fig, axs = plt.subplots(1,1, figsize=(12,4))\n",
    "plot_partial_dependence(boost_est, X_train, features=feature_idxs, \n",
    "                                    feature_names=feature_importances.index.tolist(), ax=axs);"
   ]
  },
  {
   "cell_type": "markdown",
   "metadata": {},
   "source": [
    "This plots make sense with what we know about this dataset from previous labs. Increasing number of rooms increases the medv and decreasing lstat ( a poverty measure) increases medv."
   ]
  },
  {
   "cell_type": "markdown",
   "metadata": {},
   "source": [
    "## Compute Test MSE"
   ]
  },
  {
   "cell_type": "code",
   "execution_count": 16,
   "metadata": {},
   "outputs": [
    {
     "name": "stdout",
     "output_type": "stream",
     "text": [
      "Test MSE =  17.4773360488\n"
     ]
    }
   ],
   "source": [
    "# Make predictions\n",
    "y_pred = boost_est.predict(X_test)\n",
    "# compute test mse\n",
    "mse = np.mean((y_test-y_pred)**2)\n",
    "print(\"Test MSE = \", mse)"
   ]
  },
  {
   "cell_type": "markdown",
   "metadata": {},
   "source": [
    "This value is close to the value for the random forest and both techniques improve slightly over bagging."
   ]
  },
  {
   "cell_type": "code",
   "execution_count": null,
   "metadata": {
    "collapsed": true
   },
   "outputs": [],
   "source": []
  }
 ],
 "metadata": {
  "kernelspec": {
   "display_name": "Python 3",
   "language": "python",
   "name": "python3"
  },
  "language_info": {
   "codemirror_mode": {
    "name": "ipython",
    "version": 3
   },
   "file_extension": ".py",
   "mimetype": "text/x-python",
   "name": "python",
   "nbconvert_exporter": "python",
   "pygments_lexer": "ipython3",
   "version": "3.6.1"
  }
 },
 "nbformat": 4,
 "nbformat_minor": 1
}
